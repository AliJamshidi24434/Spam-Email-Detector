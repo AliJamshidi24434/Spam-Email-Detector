{
 "cells": [
  {
   "cell_type": "code",
   "execution_count": null,
   "metadata": {},
   "outputs": [
    {
     "name": "stderr",
     "output_type": "stream",
     "text": [
      "100%|██████████| 13/13 [00:03<00:00,  4.33it/s]\n"
     ]
    }
   ],
   "source": [
    "# Import pandas for working with csv file, and tqdm for tracking process\n",
    "import pandas as pd\n",
    "from tqdm import tqdm\n",
    "\n",
    "# Datasets information\n",
    "datasets = {\n",
    "    \"emails.csv\" : {\"text_col\":\"text\", \"label_col\":\"spam\", \"source\":\"https://www.kaggle.com/datasets/jackksoncsie/spam-email-dataset\"},\n",
    "    \"spam_ham_dataset.csv\" : {\"text_col\":\"text\", \"label_col\":\"label_num\", \"source\":\"https://www.kaggle.com/datasets/venky73/spam-mails-dataset\"},\n",
    "    \"completeSpamAssassin.csv\" : {\"text_col\":\"Body\", \"label_col\":\"Label\", \"source\":\"https://www.kaggle.com/datasets/nitishabharathi/email-spam-dataset\"},\n",
    "    \"messages.csv\" : {\"text_col\":[\"subject\", \"message\"], \"label_col\":\"label\", \"source\":\"https://zenodo.org/records/8339691\"},\n",
    "    \"Enron.csv\" : {\"text_col\":[\"subject\", \"body\"], \"label_col\":\"label\", \"source\":\"https://zenodo.org/records/8339691\"},\n",
    "    \"Ling.csv\" : {\"text_col\":[\"subject\", \"body\"], \"label_col\":\"label\", \"source\":\"https://zenodo.org/records/8339691\"},\n",
    "    \"Nazario.csv\" : {\"text_col\":[\"subject\", \"body\"], \"label_col\":\"label\", \"source\":\"https://zenodo.org/records/8339691\"},\n",
    "    \"Nazario_5.csv\" : {\"text_col\":[\"subject\", \"body\"], \"label_col\":\"label\", \"source\":\"https://zenodo.org/records/8339691\"},\n",
    "    \"Nigerian_5.csv\" : {\"text_col\":[\"subject\", \"body\"], \"label_col\":\"label\", \"source\":\"https://zenodo.org/records/8339691\"},\n",
    "    \"Nigerian_Fraud.csv\" : {\"text_col\":[\"subject\", \"body\"], \"label_col\":\"label\", \"source\":\"https://zenodo.org/records/8339691\"},\n",
    "    \"CEAS_08.csv\" : {\"text_col\":[\"subject\", \"body\"], \"label_col\":\"label\", \"source\":\"https://zenodo.org/records/8339691\"},\n",
    "    \"SpamAssasin.csv\" : {\"text_col\":[\"subject\", \"body\"], \"label_col\":\"label\", \"source\":\"https://zenodo.org/records/8339691\"},\n",
    "    \"TREC_07.csv\" : {\"text_col\":[\"subject\", \"body\"], \"label_col\":\"label\", \"source\":\"https://zenodo.org/records/8339691\"},\n",
    "}\n",
    "\n",
    "# Full Dataset with predefined columns\n",
    "full_dataset = pd.DataFrame(columns=[\"text\", \"label\"])\n",
    "\n",
    "# For every Dataset, concat it's data to our full_dataset\n",
    "for k, v in tqdm(datasets.items()):\n",
    "    df = pd.read_csv(f\"Data/Dataset/{k}\")\n",
    "    converted_df = pd.DataFrame({\n",
    "                                \"text\" : df[v[\"text_col\"][0]]+\" \"+df[v[\"text_col\"][1]] if type(v[\"text_col\"])==list else df[v[\"text_col\"]], \n",
    "                                \"label\" : df[v[\"label_col\"]]\n",
    "                                })\n",
    "    full_dataset = pd.concat([full_dataset, converted_df.dropna()], axis=0)\n",
    "    \n",
    "# Write compeleted full_dataset\n",
    "full_dataset.to_csv(\"Data/FullDataset.csv\", columns=[\"text\", \"label\"], header=True, index=False)"
   ]
  }
 ],
 "metadata": {
  "kernelspec": {
   "display_name": "Python 3",
   "language": "python",
   "name": "python3"
  },
  "language_info": {
   "codemirror_mode": {
    "name": "ipython",
    "version": 3
   },
   "file_extension": ".py",
   "mimetype": "text/x-python",
   "name": "python",
   "nbconvert_exporter": "python",
   "pygments_lexer": "ipython3",
   "version": "3.12.0"
  }
 },
 "nbformat": 4,
 "nbformat_minor": 2
}
